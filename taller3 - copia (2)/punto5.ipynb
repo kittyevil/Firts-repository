{
  "nbformat": 4,
  "nbformat_minor": 0,
  "metadata": {
    "colab": {
      "provenance": []
    },
    "kernelspec": {
      "name": "python3",
      "display_name": "Python 3"
    },
    "language_info": {
      "name": "python"
    }
  },
  "cells": [
    {
      "cell_type": "code",
      "execution_count": 1,
      "metadata": {
        "id": "a9fm1_fUY7-z",
        "outputId": "8775e6bb-443e-47c4-8a8e-7d14bb2e5658",
        "colab": {
          "base_uri": "https://localhost:8080/",
          "height": 673
        }
      },
      "outputs": [
        {
          "output_type": "stream",
          "name": "stdout",
          "text": [
            "ingresa el valor de n: 4\n",
            "[[26 62 79 88]\n",
            " [74 43 23 34]\n",
            " [87 84 53 24]\n",
            " [81 44 13 79]] \n",
            " ----------------------------------------            0      1      2      3\n",
            "count   4.00   4.00   4.00   4.00\n",
            "mean   67.00  58.25  42.00  56.25\n",
            "std    27.84  19.26  29.96  31.94\n",
            "min    26.00  43.00  13.00  24.00\n",
            "25%    62.00  43.75  20.50  31.50\n",
            "50%    77.50  53.00  38.00  56.50\n",
            "75%    82.50  67.50  59.50  81.25\n",
            "max    87.00  84.00  79.00  88.00\n"
          ]
        },
        {
          "output_type": "display_data",
          "data": {
            "text/plain": [
              "<Figure size 640x480 with 1 Axes>"
            ],
            "image/png": "[encoded data removed]"
          },
          "metadata": {}
        }
      ],
      "source": [
        "import numpy as np\n",
        "import matplotlib.pyplot as plt\n",
        "import pandas as pd\n",
        "\n",
        "n = int(input(\"ingresa el valor de n: \"))\n",
        "\n",
        "matriz= np.random.randint(10,99,size=(n,n))\n",
        "\n",
        "diagonalprincipal=[str(e) for e in matriz.diagonal()]\n",
        "diagonalsecundaria=[str(i) for i in np.diagonal(np.fliplr(matriz))]\n",
        "\n",
        "data=pd.DataFrame(data=matriz)\n",
        "pruebas=round(data.describe(),2)\n",
        "print(matriz,\"\\n\",\"-\"*40,pruebas)\n",
        "plt.scatter(diagonalprincipal,diagonalsecundaria,linestyle=\"dotted\")\n",
        "plt.show()\n",
        "# print(matriz,\"\\n \\n\",matriz.diagonal(),\"\\n \\n\",np.fliplr(matriz),'\\n \\n',np.diagonal(np.fliplr(matriz)))"
      ]
    }
  ]
}