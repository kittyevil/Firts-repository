{
  "nbformat": 4,
  "nbformat_minor": 0,
  "metadata": {
    "colab": {
      "provenance": []
    },
    "kernelspec": {
      "name": "python3",
      "display_name": "Python 3"
    },
    "language_info": {
      "name": "python"
    }
  },
  "cells": [
    {
      "cell_type": "code",
      "execution_count": null,
      "metadata": {
        "colab": {
          "base_uri": "https://localhost:8080/",
          "height": 673
        },
        "id": "WPMgcgPHZ-4T",
        "outputId": "15275bfa-4767-40f0-84e5-73eebdf32565"
      },
      "outputs": [
        {
          "output_type": "stream",
          "name": "stdout",
          "text": [
            "ingrese el tamaño de la zona de estudio: 4\n",
            "[[10 33  7 29]\n",
            " [ 8 65 91 32]\n",
            " [53 46 97 26]\n",
            " [26 74 39 33]]\n",
            "\n",
            "media: \n",
            "41.8125\n",
            "mediana: \n",
            "33.0\n",
            "Moda: \n",
            "6\n",
            "desviacion: \n",
            "26.7773662586521\n"
          ]
        },
        {
          "output_type": "display_data",
          "data": {
            "text/plain": [
              "<Figure size 640x480 with 1 Axes>"
            ],
            "image/png": "[encoded data removed]"
          },
          "metadata": {}
        }
      ],
      "source": [
        "import numpy as np\n",
        "import matplotlib.pyplot as plt\n",
        "\n",
        "n=int(input(\"ingrese el tamaño de la zona de estudio: \"))\n",
        "zona= np.random.randint(0,100,size=(n,n))\n",
        "frecuencia=zona.astype(str)\n",
        "\n",
        "for i in range(len(zona)):\n",
        "    for e in range(len(zona[i])):\n",
        "        if zona[i,e] <=2:\n",
        "            frecuencia[i,e]=\"D\"\n",
        "        elif zona[i,e] > 2 and zona[i,e]<=15:\n",
        "            frecuencia[i,e]=\"M\"\n",
        "        elif zona[i,e]<=30:\n",
        "            frecuencia[i,e]=\"F\"\n",
        "        elif zona[i,e] <60:\n",
        "            frecuencia[i,e] = \"MF\"\n",
        "        else:\n",
        "            frecuencia[i,e] = \"T\"\n",
        "\n",
        "Estados=[\"D\",\"M\",\"F\",\"MF\",\"T\"]\n",
        "cantidad=[]\n",
        "\n",
        "for i in Estados:\n",
        "    cantidad.append(str(np.count_nonzero(frecuencia == i)))\n",
        "print(zona)\n",
        "media=np.mean(zona)\n",
        "mediana=np.median(zona)\n",
        "desviacion=np.std(zona)\n",
        "moda=max(cantidad)\n",
        "plt.bar(Estados,cantidad)\n",
        "print(\"\\nmedia: \",media,\"mediana: \",mediana,\"Moda: \",moda,\"desviacion: \",desviacion,sep=\"\\n\")\n",
        "\n",
        "plt.show()\n",
        "\n"
      ]
    }
  ]
}