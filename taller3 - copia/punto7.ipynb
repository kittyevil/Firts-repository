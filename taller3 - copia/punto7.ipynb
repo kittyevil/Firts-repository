{
  "nbformat": 4,
  "nbformat_minor": 0,
  "metadata": {
    "colab": {
      "provenance": []
    },
    "kernelspec": {
      "name": "python3",
      "display_name": "Python 3"
    },
    "language_info": {
      "name": "python"
    }
  },
  "cells": [
    {
      "cell_type": "code",
      "execution_count": 2,
      "metadata": {
        "colab": {
          "base_uri": "https://localhost:8080/"
        },
        "id": "w95Ko8rVZWII",
        "outputId": "2ee202cc-882b-43fa-f6e4-e175be8f6389"
      },
      "outputs": [
        {
          "output_type": "stream",
          "name": "stdout",
          "text": [
            "ingrese n: 4\n",
            "ingrese m: 4\n",
            "[[940 976 139 498]\n",
            " [ 29  33 815 303]\n",
            " [487 147  10 145]\n",
            " [251 118 503 621]]\n",
            "[['🟥' '🟥' '🟩' '🟨']\n",
            " ['🟩' '🟩' '🟥' '🟨']\n",
            " ['🟨' '🟩' '🟩' '🟩']\n",
            " ['🟨' '🟩' '🟥' '🟥']]\n"
          ]
        }
      ],
      "source": [
        "import numpy as np\n",
        "\n",
        "\n",
        "\n",
        "n=int(input(\"ingrese n: \"))\n",
        "m=int(input(\"ingrese m: \"))\n",
        "matriz=np.random.randint(0,1000, size=(n,m))\n",
        "matriznueva=matriz.astype(str)\n",
        "print(matriz)\n",
        "\n",
        "for i in range(len(matriz)):\n",
        "    for e in range(len(matriz[i])):\n",
        "        if matriz[i,e] >=500:\n",
        "            matriznueva[i,e]=\"🟥\"\n",
        "        elif matriz[i,e] <500 and matriz[i,e] >= 250:\n",
        "            matriznueva[i,e]=\"🟨\"\n",
        "        else:\n",
        "            matriznueva[i,e]=\"🟩\"\n",
        "print(matriznueva)\n",
        "\n"
      ]
    }
  ]
}